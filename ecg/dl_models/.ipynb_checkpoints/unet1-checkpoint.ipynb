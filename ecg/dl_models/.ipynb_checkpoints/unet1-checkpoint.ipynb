{
 "cells": [
  {
   "cell_type": "code",
   "execution_count": 1,
   "id": "c194ea6c",
   "metadata": {
    "ExecuteTime": {
     "end_time": "2023-07-17T08:16:40.826444Z",
     "start_time": "2023-07-17T08:16:38.845846Z"
    }
   },
   "outputs": [],
   "source": [
    "import torch\n",
    "import torch.nn as nn\n",
    "\n",
    "class SimpleUNet1D(nn.Module):\n",
    "    def __init__(self, in_channels, out_channels):\n",
    "        super(SimpleUNet1D, self).__init__()\n",
    "\n",
    "        self.down_conv1 = self.double_conv(in_channels, 64)\n",
    "        self.down_conv2 = self.double_conv(64, 128)\n",
    "        self.up_conv1 = self.double_conv(192, 64)\n",
    "        self.up_conv2 = self.double_conv(96, out_channels)\n",
    "\n",
    "    def double_conv(self, in_channels, out_channels):\n",
    "        return nn.Sequential(\n",
    "            nn.Conv1d(in_channels, out_channels, kernel_size=3, padding=1),\n",
    "            nn.ReLU(inplace=True),\n",
    "            nn.Conv1d(out_channels, out_channels, kernel_size=3, padding=1),\n",
    "            nn.ReLU(inplace=True)\n",
    "        )\n",
    "\n",
    "    def forward(self, x):\n",
    "        # Downsample\n",
    "        down1 = self.down_conv1(x)\n",
    "        pool1 = nn.functional.max_pool1d(down1, kernel_size=2, stride=2)\n",
    "\n",
    "        down2 = self.down_conv2(pool1)\n",
    "        pool2 = nn.functional.max_pool1d(down2, kernel_size=2, stride=2)\n",
    "\n",
    "        # Upsample\n",
    "        up1 = nn.functional.interpolate(down2, scale_factor=2, mode='linear', align_corners=True)\n",
    "        up1 = torch.cat([up1, down1], dim=1)\n",
    "        up1 = self.up_conv1(up1)\n",
    "\n",
    "        up2 = nn.functional.interpolate(up1, scale_factor=2, mode='linear', align_corners=True)\n",
    "        up2 = torch.cat([up2, x], dim=1)\n",
    "        up2 = self.up_conv2(up2)\n",
    "\n",
    "        return up2\n"
   ]
  }
 ],
 "metadata": {
  "kernelspec": {
   "display_name": "Python 3 (ipykernel)",
   "language": "python",
   "name": "python3"
  },
  "language_info": {
   "codemirror_mode": {
    "name": "ipython",
    "version": 3
   },
   "file_extension": ".py",
   "mimetype": "text/x-python",
   "name": "python",
   "nbconvert_exporter": "python",
   "pygments_lexer": "ipython3",
   "version": "3.9.13"
  },
  "toc": {
   "base_numbering": 1,
   "nav_menu": {},
   "number_sections": true,
   "sideBar": true,
   "skip_h1_title": false,
   "title_cell": "Table of Contents",
   "title_sidebar": "Contents",
   "toc_cell": false,
   "toc_position": {},
   "toc_section_display": true,
   "toc_window_display": false
  },
  "varInspector": {
   "cols": {
    "lenName": 16,
    "lenType": 16,
    "lenVar": 40
   },
   "kernels_config": {
    "python": {
     "delete_cmd_postfix": "",
     "delete_cmd_prefix": "del ",
     "library": "var_list.py",
     "varRefreshCmd": "print(var_dic_list())"
    },
    "r": {
     "delete_cmd_postfix": ") ",
     "delete_cmd_prefix": "rm(",
     "library": "var_list.r",
     "varRefreshCmd": "cat(var_dic_list()) "
    }
   },
   "types_to_exclude": [
    "module",
    "function",
    "builtin_function_or_method",
    "instance",
    "_Feature"
   ],
   "window_display": false
  }
 },
 "nbformat": 4,
 "nbformat_minor": 5
}
