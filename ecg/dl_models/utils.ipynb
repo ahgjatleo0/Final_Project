{
 "cells": [
  {
   "cell_type": "code",
   "execution_count": 1,
   "id": "87cb1010",
   "metadata": {
    "ExecuteTime": {
     "end_time": "2023-07-17T08:16:56.276186Z",
     "start_time": "2023-07-17T08:16:55.463956Z"
    }
   },
   "outputs": [],
   "source": [
    "import numpy as np\n",
    "from scipy.signal import butter, resample, sosfiltfilt\n",
    "\n",
    "def preprocess_ecg(ecg:np.ndarray)->np.ndarray:\n",
    "    \"\"\"\n",
    "    Preprocess the ECG\n",
    "    band pass filter -> normalization -> reshape\n",
    "        Args:\n",
    "            ecg: (np.ndarray) ECG data\n",
    "        Returns:\n",
    "            ecg: (np.ndarray) ECG data\n",
    "    \"\"\"\n",
    "\n",
    "    return ecg\n",
    "\n",
    "\n",
    "def filtering(signal):\n",
    "        \"\"\"\n",
    "        Arguments:\n",
    "          signal : Cropped ECG data, shape = (N. of samples, N. of leads, cropped ECG signal length)\n",
    "        Returns:\n",
    "          Filtered ECG data, shape = (N. of samples, N. of leads,  cropped ECG signal length)\n",
    "        \"\"\"\n",
    "        filters = []\n",
    "        filters.append(butter(5, 0.67, btype='highpass', fs=500, output='sos'))\n",
    "        filters.append(butter(5, 40, btype='lowpass', fs=500, output='sos'))\n",
    "\n",
    "        filtered_signal = signal\n",
    "        for sos_filter in filters:\n",
    "            filtered_signal = sosfiltfilt(sos_filter, filtered_signal)\n",
    "        return filtered_signal\n",
    "\n",
    "def standardization(signal):\n",
    "    \"\"\"\n",
    "    Arguments:\n",
    "        signal : Cropped ECG data, shape = (N. of samples, N. of leads, cropped ECG signal length)\n",
    "    Returns:\n",
    "        Standardized ECG data, shape = (N. of samples, N. of leads,  cropped ECG signal length)\n",
    "    \"\"\"\n",
    "\n",
    "    return signal"
   ]
  }
 ],
 "metadata": {
  "kernelspec": {
   "display_name": "Python 3 (ipykernel)",
   "language": "python",
   "name": "python3"
  },
  "language_info": {
   "codemirror_mode": {
    "name": "ipython",
    "version": 3
   },
   "file_extension": ".py",
   "mimetype": "text/x-python",
   "name": "python",
   "nbconvert_exporter": "python",
   "pygments_lexer": "ipython3",
   "version": "3.9.13"
  },
  "toc": {
   "base_numbering": 1,
   "nav_menu": {},
   "number_sections": true,
   "sideBar": true,
   "skip_h1_title": false,
   "title_cell": "Table of Contents",
   "title_sidebar": "Contents",
   "toc_cell": false,
   "toc_position": {},
   "toc_section_display": true,
   "toc_window_display": false
  },
  "varInspector": {
   "cols": {
    "lenName": 16,
    "lenType": 16,
    "lenVar": 40
   },
   "kernels_config": {
    "python": {
     "delete_cmd_postfix": "",
     "delete_cmd_prefix": "del ",
     "library": "var_list.py",
     "varRefreshCmd": "print(var_dic_list())"
    },
    "r": {
     "delete_cmd_postfix": ") ",
     "delete_cmd_prefix": "rm(",
     "library": "var_list.r",
     "varRefreshCmd": "cat(var_dic_list()) "
    }
   },
   "types_to_exclude": [
    "module",
    "function",
    "builtin_function_or_method",
    "instance",
    "_Feature"
   ],
   "window_display": false
  }
 },
 "nbformat": 4,
 "nbformat_minor": 5
}
