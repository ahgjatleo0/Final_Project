{
 "cells": [
  {
   "cell_type": "code",
   "execution_count": 1,
   "id": "cbcc4ffa",
   "metadata": {
    "ExecuteTime": {
     "end_time": "2023-07-17T08:15:23.459824Z",
     "start_time": "2023-07-17T08:15:21.136063Z"
    }
   },
   "outputs": [],
   "source": [
    "from typing import List, Tuple, Dict, Any, Optional\n",
    "import logging\n",
    "import os\n",
    "import numpy as np\n",
    "import pandas as pd\n",
    "import pickle as pkl\n",
    "from torch.utils.data import Dataset\n",
    "\n",
    "\n",
    "logger = logging.getLogger(__name__)\n",
    "\n",
    "\n",
    "def load_dict(filename_):\n",
    "    with open(filename_, 'rb') as f:\n",
    "        ret_di = pkl.load(f)\n",
    "    return ret_di\n",
    "\n",
    "\n",
    "# Data loader class define\n",
    "class ECGDataset(Dataset):\n",
    "    def __init__(self, waveform_dir:str, index_df_path:str, task_list:List[str]=[]):\n",
    "        \"\"\"\n",
    "        Args:\n",
    "            waveform_dir: (str) directory path for waveform\n",
    "            index_df_path: (str) path of index pd.DataFrame, df should have columns: FILE_NAME, SAMPLE_RATE\n",
    "            task_list = (list) list of tasks to use\n",
    "        \"\"\"\n",
    "        df = pd.read_pickle(index_df_path)\n",
    "        self.df = df\n",
    "\n",
    "        filenames = df[\"FILE_NAME\"].tolist()\n",
    "        self.filenames = filenames\n",
    "        self.filenames_x = [os.path.join(waveform_dir, f) for f in self.filenames]\n",
    "        self.lead = ['I', 'II', 'III', 'AVR', 'AVL', 'AVF', 'V1', 'V2', 'V3', 'V4', 'V5', 'V6']\n",
    "        self.task = task_list\n",
    "        self.Y_np_arr = self.get_label()  # numpy array including sampling ratio\n",
    "        self.sample_rates = self.df[\"SAMPLE_RATE\"].values\n",
    "\n",
    "    def __len__(self):\n",
    "        return len(self.filenames)\n",
    "\n",
    "\n",
    "    def get_label(self):\n",
    "        selected_df = self.df[self.task]\n",
    "        return selected_df.values\n",
    "\n",
    "\n",
    "    def __getitem__(self, idx):  # get one data point\n",
    "        label = self.Y_np_arr[idx]\n",
    "        sample_rate = int(self.sample_rates[idx])  # resample 을 위해서\n",
    "        ecg_dict = load_dict(self.filenames_x[idx])  # target ecg dictionary\n",
    "\n",
    "        # read values of predefined leads\n",
    "        data = [ecg_dict[lead] for lead in self.lead]\n",
    "        ecg = np.stack(data)  # np.ndarray (lead number, data length)\n",
    "\n",
    "        # (Filtering) -> Standardization\n",
    "\n",
    "        data = {'input': ecg, 'label': label}\n",
    "        return data"
   ]
  }
 ],
 "metadata": {
  "kernelspec": {
   "display_name": "Python 3 (ipykernel)",
   "language": "python",
   "name": "python3"
  },
  "language_info": {
   "codemirror_mode": {
    "name": "ipython",
    "version": 3
   },
   "file_extension": ".py",
   "mimetype": "text/x-python",
   "name": "python",
   "nbconvert_exporter": "python",
   "pygments_lexer": "ipython3",
   "version": "3.9.13"
  },
  "toc": {
   "base_numbering": 1,
   "nav_menu": {},
   "number_sections": true,
   "sideBar": true,
   "skip_h1_title": false,
   "title_cell": "Table of Contents",
   "title_sidebar": "Contents",
   "toc_cell": false,
   "toc_position": {},
   "toc_section_display": true,
   "toc_window_display": false
  },
  "varInspector": {
   "cols": {
    "lenName": 16,
    "lenType": 16,
    "lenVar": 40
   },
   "kernels_config": {
    "python": {
     "delete_cmd_postfix": "",
     "delete_cmd_prefix": "del ",
     "library": "var_list.py",
     "varRefreshCmd": "print(var_dic_list())"
    },
    "r": {
     "delete_cmd_postfix": ") ",
     "delete_cmd_prefix": "rm(",
     "library": "var_list.r",
     "varRefreshCmd": "cat(var_dic_list()) "
    }
   },
   "types_to_exclude": [
    "module",
    "function",
    "builtin_function_or_method",
    "instance",
    "_Feature"
   ],
   "window_display": false
  }
 },
 "nbformat": 4,
 "nbformat_minor": 5
}
