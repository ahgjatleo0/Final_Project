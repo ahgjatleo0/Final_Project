{
 "cells": [
  {
   "cell_type": "code",
   "execution_count": 5,
   "id": "e48ffca7",
   "metadata": {
    "ExecuteTime": {
     "end_time": "2023-07-22T07:24:30.888161Z",
     "start_time": "2023-07-22T07:24:26.416406Z"
    }
   },
   "outputs": [
    {
     "name": "stdout",
     "output_type": "stream",
     "text": [
      "Collecting torchsummary\n",
      "  Downloading torchsummary-1.5.1-py3-none-any.whl (2.8 kB)\n",
      "Installing collected packages: torchsummary\n",
      "Successfully installed torchsummary-1.5.1\n",
      "Note: you may need to restart the kernel to use updated packages.\n"
     ]
    }
   ],
   "source": [
    "pip install torchsummary"
   ]
  },
  {
   "cell_type": "code",
   "execution_count": 18,
   "id": "daf14612",
   "metadata": {
    "ExecuteTime": {
     "end_time": "2023-07-22T07:34:28.565372Z",
     "start_time": "2023-07-22T07:34:28.541802Z"
    }
   },
   "outputs": [],
   "source": [
    "import torch\n",
    "import torch.nn as nn\n",
    "\n",
    "class SimpleResNet1D(nn.Module):\n",
    "    def __init__(self, in_channels, num_classes):\n",
    "        super(SimpleResNet1D, self).__init__()\n",
    "\n",
    "        self.conv1 = nn.Conv1d(in_channels, 64, kernel_size=3, stride=1, padding=1)\n",
    "        self.relu = nn.ReLU()\n",
    "        self.conv2 = nn.Conv1d(64, 128, kernel_size=3, stride=1, padding=1)\n",
    "        self.fc = nn.Linear(128, num_classes)\n",
    "        self.downsample = nn.Conv1d(in_channels, 128, kernel_size=1, stride=1)\n",
    "\n",
    "\n",
    "    def forward(self, x):\n",
    "        out = self.conv1(x)\n",
    "        out = self.relu(out)\n",
    "        out = self.conv2(out)\n",
    "        out += self.downsample(x)\n",
    "        out_relu = self.relu(out)\n",
    "        # out = self.relu(out)\n",
    "\n",
    "        # Residual Connection\n",
    "\n",
    "        out_relu = torch.mean(out_relu, dim=2)  # Global Average Pooling\n",
    "        out_relu = self.fc(out_relu)\n",
    "\n",
    "        return out_relu\n",
    "\n",
    "    "
   ]
  }
 ],
 "metadata": {
  "kernelspec": {
   "display_name": "Python 3 (ipykernel)",
   "language": "python",
   "name": "python3"
  },
  "language_info": {
   "codemirror_mode": {
    "name": "ipython",
    "version": 3
   },
   "file_extension": ".py",
   "mimetype": "text/x-python",
   "name": "python",
   "nbconvert_exporter": "python",
   "pygments_lexer": "ipython3",
   "version": "3.9.13"
  },
  "toc": {
   "base_numbering": 1,
   "nav_menu": {},
   "number_sections": true,
   "sideBar": true,
   "skip_h1_title": false,
   "title_cell": "Table of Contents",
   "title_sidebar": "Contents",
   "toc_cell": false,
   "toc_position": {},
   "toc_section_display": true,
   "toc_window_display": false
  },
  "varInspector": {
   "cols": {
    "lenName": 16,
    "lenType": 16,
    "lenVar": 40
   },
   "kernels_config": {
    "python": {
     "delete_cmd_postfix": "",
     "delete_cmd_prefix": "del ",
     "library": "var_list.py",
     "varRefreshCmd": "print(var_dic_list())"
    },
    "r": {
     "delete_cmd_postfix": ") ",
     "delete_cmd_prefix": "rm(",
     "library": "var_list.r",
     "varRefreshCmd": "cat(var_dic_list()) "
    }
   },
   "types_to_exclude": [
    "module",
    "function",
    "builtin_function_or_method",
    "instance",
    "_Feature"
   ],
   "window_display": false
  }
 },
 "nbformat": 4,
 "nbformat_minor": 5
}
