{
 "cells": [
  {
   "cell_type": "code",
   "execution_count": 70,
   "id": "18ae5548",
   "metadata": {
    "ExecuteTime": {
     "end_time": "2023-07-21T03:42:26.681546Z",
     "start_time": "2023-07-21T03:39:41.464131Z"
    }
   },
   "outputs": [
    {
     "name": "stdout",
     "output_type": "stream",
     "text": [
      " * Serving Flask app \"__main__\" (lazy loading)\n",
      " * Environment: production\n",
      "\u001b[31m   WARNING: This is a development server. Do not use it in a production deployment.\u001b[0m\n",
      "\u001b[2m   Use a production WSGI server instead.\u001b[0m\n",
      " * Debug mode: off\n"
     ]
    },
    {
     "name": "stderr",
     "output_type": "stream",
     "text": [
      " * Running on http://127.0.0.1:9000/ (Press CTRL+C to quit)\n",
      "127.0.0.1 - - [21/Jul/2023 12:39:47] \"POST /upload HTTP/1.1\" 200 -\n"
     ]
    },
    {
     "name": "stdout",
     "output_type": "stream",
     "text": [
      "7_data\n",
      "pkl\n",
      "7_data.pkl\n",
      "123\n"
     ]
    }
   ],
   "source": [
    "from flask import Flask, request, jsonify\n",
    "from flask_cors import CORS\n",
    "\n",
    "app = Flask(__name__)\n",
    "CORS(app)\n",
    "\n",
    "@app.route(\"/upload\", methods=[\"GET\", \"POST\"])\n",
    "def upload_file():\n",
    "    if request.method == \"POST\" :\n",
    "        \n",
    "        file_name = request.form.get(\"fileName\")\n",
    "        file_extension = request.form.get(\"fileExtension\")\n",
    "        user_id = request.form.get(\"user_id\")\n",
    "        orign_file = f\"{file_name}.{file_extension}\"\n",
    "        \n",
    "        print(file_name)\n",
    "        print(file_extension)\n",
    "        print(orign_file)\n",
    "        print(user_id)\n",
    "        return \"성공\"\n",
    "    else :\n",
    "        print(request.args.get(\"fileName\"))\n",
    "        return \"get방식\"\n",
    "   \n",
    "if __name__ == '__main__':\n",
    "    app.run(host=\"127.0.0.1\", port=\"9000\")\n"
   ]
  },
  {
   "cell_type": "code",
   "execution_count": 62,
   "id": "5073c3d5",
   "metadata": {
    "ExecuteTime": {
     "end_time": "2023-07-21T02:42:26.087353Z",
     "start_time": "2023-07-21T02:42:26.083363Z"
    }
   },
   "outputs": [],
   "source": [
    "import os\n",
    "\n",
    "def read_data_from_file(full_file_name):\n",
    "    file_folder = '../Desktop/user_ecg/'\n",
    "    file_path = os.path.join(file_folder, full_file_name)\n",
    "\n",
    "    with open(file_path, \"r\") as file:\n",
    "        data = file.read()\n",
    "\n",
    "    return data"
   ]
  },
  {
   "cell_type": "code",
   "execution_count": 74,
   "id": "8151ef33",
   "metadata": {
    "ExecuteTime": {
     "end_time": "2023-07-21T04:49:15.784855Z",
     "start_time": "2023-07-21T04:49:15.761913Z"
    }
   },
   "outputs": [],
   "source": [
    "def main(orign_file, user_id) : \n",
    "\n",
    "    from typing import Dict, Union\n",
    "    import pickle\n",
    "    import torch\n",
    "    import torch.nn as nn\n",
    "    import torch.nn.functional as F\n",
    "    import numpy as np\n",
    "    from collections import OrderedDict\n",
    "    import glob\n",
    "    from resnet1d import SimpleResNet1D\n",
    "    from unet1d import SimpleUNet1D\n",
    "\n",
    "    def load_ecg_pickle(ecg_path:str)->np.ndarray:\n",
    "        with open(ecg_path, \"rb\") as f:\n",
    "            ecg = pickle.load(f)\n",
    "        out = []\n",
    "        for key in ['I', 'II', 'III', 'AVR', 'AVL', 'AVF', 'V1', 'V2', 'V3', 'V4', 'V5', 'V6']:\n",
    "            out.append(ecg[key])\n",
    "        ecg = np.stack(out, axis=0)\n",
    "        return ecg\n",
    "\n",
    "\n",
    "    class ECG_Infer_Module():\n",
    "        def __init__(self, resnet_path, unet_path, num_leads=12, out_classes=[\"af\", \"sr\", \"sb\", \"gsvt\"]):\n",
    "            self.num_leads = num_leads\n",
    "            self.out_classes = out_classes\n",
    "            self.num_classes = len(out_classes)\n",
    "            self.resnet = SimpleResNet1D(in_channels=num_leads, num_classes=self.num_classes)\n",
    "            self.unet = SimpleUNet1D(in_channels=num_leads, out_channels=self.num_classes)\n",
    "            self.load_model(resnet_path, unet_path)\n",
    "\n",
    "        def modify_checkpoint(self, checkpoint):\n",
    "            temp_dict = OrderedDict()\n",
    "            for old_key in checkpoint:\n",
    "                new_key = old_key[7:]\n",
    "                temp_dict[new_key] = checkpoint[old_key]\n",
    "            return temp_dict\n",
    "\n",
    "\n",
    "        def load_model(self, resnet_path, unet_path, trained_from_gpu=True):  # XXX need to set device\n",
    "            device = torch.device('cpu')\n",
    "            if resnet_path:\n",
    "                checkpoint = torch.load(resnet_path, map_location=device )\n",
    "                if trained_from_gpu:\n",
    "                    checkpoint = self.modify_checkpoint(checkpoint)\n",
    "                self.resnet.load_state_dict(checkpoint)\n",
    "            if unet_path:\n",
    "                checkpoint = torch.load(unet_path, map_location=device )\n",
    "                if trained_from_gpu:\n",
    "                    checkpoint = self.modify_checkpoint(checkpoint)\n",
    "                self.unet.load_state_dict(torch.load(unet_path))\n",
    "            self.resnet.to('cpu')\n",
    "            self.resnet.eval()\n",
    "            self.unet.to('cpu')\n",
    "            self.unet.eval()\n",
    "\n",
    "\n",
    "        def post_process_resnet(self, resnet_output:np.ndarray)->Dict[str, bool]:\n",
    "            idx = torch.argmax(resnet_output)\n",
    "            out_dict = {}\n",
    "            for i, class_name in enumerate(self.out_classes):\n",
    "                if idx == i:\n",
    "                    out_dict[class_name] = True\n",
    "                else:\n",
    "                    out_dict[class_name] = False\n",
    "            return out_dict\n",
    "\n",
    "\n",
    "        def post_process_unet(self, unet_ouput:np.ndarray)->Dict[str, float]:\n",
    "            out_dict = {}\n",
    "            mean_dict = {\n",
    "                \"hr\": 89,\n",
    "                \"pr\": 140,\n",
    "                \"qrs\": 74,\n",
    "                \"qt\": 330,\n",
    "                \"qtc\": 400\n",
    "            }\n",
    "            for class_name in mean_dict:\n",
    "                out_dict[class_name] = np.random.normal(loc=mean_dict[class_name])\n",
    "            return out_dict\n",
    "\n",
    "\n",
    "        def infer(self, ecg:np.ndarray)->Dict[str, Union[bool, str]]:\n",
    "            ecg = torch.Tensor(ecg).unsqueeze(0)  # to torch.Tensor with shape (1, 12, 5000)\n",
    "            resnet_output = self.resnet(ecg)\n",
    "            resnet_output = self.post_process_resnet(resnet_output)\n",
    "            unet_output = self.post_process_unet(None)\n",
    "            out_dict = {**resnet_output, **unet_output}\n",
    "\n",
    "            return out_dict\n",
    "\n",
    "\n",
    "    if __name__ == \"__main__\":\n",
    "        ecg_pkl_list = glob.glob(f\"../Desktop/user_ecg/4_data.pkl\")  # sample ecg data\n",
    "        ecg_pkl_list.sort()\n",
    "\n",
    "\n",
    "        ecg_infer_module = ECG_Infer_Module(\"\", \"\")  # no module yet\n",
    "\n",
    "        for ecg in ecg_pkl_list:\n",
    "            ecg = load_ecg_pickle(ecg)  # 서버에서 ecg를 받아왔다고 가정, 정확히 어떤 형태로 받는지는 상관 없음, dictionary 든 array 든\n",
    "            # ecg: np.ndarray with shape (12, 5000)\n",
    "            out = ecg_infer_module.infer(ecg) # return dictionary\n",
    "            print(out)  # 이 값을 다시 서버에 보내야 함\n",
    "    return out"
   ]
  },
  {
   "cell_type": "code",
   "execution_count": 76,
   "id": "3379d16c",
   "metadata": {
    "ExecuteTime": {
     "end_time": "2023-07-21T04:49:26.022814Z",
     "start_time": "2023-07-21T04:49:26.009877Z"
    }
   },
   "outputs": [
    {
     "ename": "NameError",
     "evalue": "name 'out' is not defined",
     "output_type": "error",
     "traceback": [
      "\u001b[1;31m---------------------------------------------------------------------------\u001b[0m",
      "\u001b[1;31mNameError\u001b[0m                                 Traceback (most recent call last)",
      "\u001b[1;32m~\\AppData\\Local\\Temp\\ipykernel_3800\\2289225341.py\u001b[0m in \u001b[0;36m<module>\u001b[1;34m\u001b[0m\n\u001b[1;32m----> 1\u001b[1;33m \u001b[0mprint\u001b[0m\u001b[1;33m(\u001b[0m\u001b[0mout\u001b[0m\u001b[1;33m)\u001b[0m\u001b[1;33m\u001b[0m\u001b[1;33m\u001b[0m\u001b[0m\n\u001b[0m",
      "\u001b[1;31mNameError\u001b[0m: name 'out' is not defined"
     ]
    }
   ],
   "source": [
    "print(out)"
   ]
  },
  {
   "cell_type": "code",
   "execution_count": null,
   "id": "a863ad93",
   "metadata": {},
   "outputs": [],
   "source": []
  }
 ],
 "metadata": {
  "kernelspec": {
   "display_name": "Python 3 (ipykernel)",
   "language": "python",
   "name": "python3"
  },
  "language_info": {
   "codemirror_mode": {
    "name": "ipython",
    "version": 3
   },
   "file_extension": ".py",
   "mimetype": "text/x-python",
   "name": "python",
   "nbconvert_exporter": "python",
   "pygments_lexer": "ipython3",
   "version": "3.9.13"
  },
  "toc": {
   "base_numbering": 1,
   "nav_menu": {},
   "number_sections": true,
   "sideBar": true,
   "skip_h1_title": false,
   "title_cell": "Table of Contents",
   "title_sidebar": "Contents",
   "toc_cell": false,
   "toc_position": {},
   "toc_section_display": true,
   "toc_window_display": false
  },
  "varInspector": {
   "cols": {
    "lenName": 16,
    "lenType": 16,
    "lenVar": 40
   },
   "kernels_config": {
    "python": {
     "delete_cmd_postfix": "",
     "delete_cmd_prefix": "del ",
     "library": "var_list.py",
     "varRefreshCmd": "print(var_dic_list())"
    },
    "r": {
     "delete_cmd_postfix": ") ",
     "delete_cmd_prefix": "rm(",
     "library": "var_list.r",
     "varRefreshCmd": "cat(var_dic_list()) "
    }
   },
   "types_to_exclude": [
    "module",
    "function",
    "builtin_function_or_method",
    "instance",
    "_Feature"
   ],
   "window_display": false
  }
 },
 "nbformat": 4,
 "nbformat_minor": 5
}
